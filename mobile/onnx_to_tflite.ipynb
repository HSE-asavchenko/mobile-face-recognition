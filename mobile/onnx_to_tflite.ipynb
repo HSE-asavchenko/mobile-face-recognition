{
  "cells": [
    {
      "cell_type": "code",
      "execution_count": 1,
      "metadata": {
        "colab": {
          "base_uri": "https://localhost:8080/",
          "height": 35
        },
        "id": "pwo7nT6FUb1T",
        "outputId": "4282395d-a5f3-42f3-8701-b2a89073e806"
      },
      "outputs": [
        {
          "output_type": "execute_result",
          "data": {
            "application/vnd.google.colaboratory.intrinsic+json": {
              "type": "string"
            },
            "text/plain": [
              "'2.7.0'"
            ]
          },
          "metadata": {},
          "execution_count": 1
        }
      ],
      "source": [
        "import sys,os\n",
        "import tensorflow as tf\n",
        "tf.__version__"
      ]
    },
    {
      "cell_type": "code",
      "execution_count": 2,
      "metadata": {
        "colab": {
          "base_uri": "https://localhost:8080/"
        },
        "id": "AV7aSgkDDjws",
        "outputId": "174f8c69-c3b0-4c25-a668-c66ffddc3247"
      },
      "outputs": [
        {
          "output_type": "stream",
          "name": "stdout",
          "text": [
            "Requirement already satisfied: onnx in /usr/local/lib/python3.7/dist-packages (1.10.2)\n",
            "Requirement already satisfied: protobuf in /usr/local/lib/python3.7/dist-packages (from onnx) (3.17.3)\n",
            "Requirement already satisfied: six in /usr/local/lib/python3.7/dist-packages (from onnx) (1.15.0)\n",
            "Requirement already satisfied: numpy>=1.16.6 in /usr/local/lib/python3.7/dist-packages (from onnx) (1.19.5)\n",
            "Requirement already satisfied: typing-extensions>=3.6.2.1 in /usr/local/lib/python3.7/dist-packages (from onnx) (3.10.0.2)\n"
          ]
        }
      ],
      "source": [
        "!pip install -U onnx\n",
        "import onnx"
      ]
    },
    {
      "cell_type": "code",
      "execution_count": 3,
      "metadata": {
        "colab": {
          "base_uri": "https://localhost:8080/"
        },
        "id": "nqXX0vWdVm2f",
        "outputId": "fab31f09-1286-4b7a-c98f-6057dbcd4829"
      },
      "outputs": [
        {
          "output_type": "stream",
          "name": "stdout",
          "text": [
            "Requirement already satisfied: tensorflow-addons in /usr/local/lib/python3.7/dist-packages (0.15.0)\n",
            "Requirement already satisfied: typeguard>=2.7 in /usr/local/lib/python3.7/dist-packages (from tensorflow-addons) (2.7.1)\n"
          ]
        }
      ],
      "source": [
        "!pip install tensorflow-addons"
      ]
    },
    {
      "cell_type": "code",
      "execution_count": 4,
      "metadata": {
        "colab": {
          "base_uri": "https://localhost:8080/"
        },
        "id": "nccC8c29U0lI",
        "outputId": "42763d0c-4a48-41c9-c597-070082c3577e"
      },
      "outputs": [
        {
          "output_type": "stream",
          "name": "stdout",
          "text": [
            "fatal: destination path 'onnx-tensorflow' already exists and is not an empty directory.\n",
            "/content/onnx-tensorflow\n",
            "/usr/local/lib/python3.7/dist-packages/setuptools/dist.py:700: UserWarning: Usage of dash-separated 'description-file' will not be supported in future versions. Please use the underscore name 'description_file' instead\n",
            "  % (opt, underscore_opt))\n",
            "/usr/local/lib/python3.7/dist-packages/setuptools/dist.py:700: UserWarning: Usage of dash-separated 'license-file' will not be supported in future versions. Please use the underscore name 'license_file' instead\n",
            "  % (opt, underscore_opt))\n",
            "running install\n",
            "running bdist_egg\n",
            "running egg_info\n",
            "writing onnx_tf.egg-info/PKG-INFO\n",
            "writing dependency_links to onnx_tf.egg-info/dependency_links.txt\n",
            "writing entry points to onnx_tf.egg-info/entry_points.txt\n",
            "writing requirements to onnx_tf.egg-info/requires.txt\n",
            "writing top-level names to onnx_tf.egg-info/top_level.txt\n",
            "reading manifest template 'MANIFEST.in'\n",
            "adding license file 'LICENSE'\n",
            "writing manifest file 'onnx_tf.egg-info/SOURCES.txt'\n",
            "installing library code to build/bdist.linux-x86_64/egg\n",
            "running install_lib\n",
            "running build_py\n",
            "copying onnx_tf/version.py -> build/lib/onnx_tf\n",
            "creating build/bdist.linux-x86_64/egg\n",
            "creating build/bdist.linux-x86_64/egg/onnx_tf\n",
            "copying build/lib/onnx_tf/pb_wrapper.py -> build/bdist.linux-x86_64/egg/onnx_tf\n",
            "copying build/lib/onnx_tf/cli.py -> build/bdist.linux-x86_64/egg/onnx_tf\n",
            "copying build/lib/onnx_tf/version.py -> build/bdist.linux-x86_64/egg/onnx_tf\n",
            "copying build/lib/onnx_tf/gen_opset.py -> build/bdist.linux-x86_64/egg/onnx_tf\n",
            "copying build/lib/onnx_tf/__init__.py -> build/bdist.linux-x86_64/egg/onnx_tf\n",
            "copying build/lib/onnx_tf/opset_version.py -> build/bdist.linux-x86_64/egg/onnx_tf\n",
            "copying build/lib/onnx_tf/backend_tf_module.py -> build/bdist.linux-x86_64/egg/onnx_tf\n",
            "creating build/bdist.linux-x86_64/egg/onnx_tf/common\n",
            "copying build/lib/onnx_tf/common/attr_converter.py -> build/bdist.linux-x86_64/egg/onnx_tf/common\n",
            "copying build/lib/onnx_tf/common/pooling_helper.py -> build/bdist.linux-x86_64/egg/onnx_tf/common\n",
            "copying build/lib/onnx_tf/common/exception.py -> build/bdist.linux-x86_64/egg/onnx_tf/common\n",
            "copying build/lib/onnx_tf/common/__init__.py -> build/bdist.linux-x86_64/egg/onnx_tf/common\n",
            "copying build/lib/onnx_tf/common/legacy.py -> build/bdist.linux-x86_64/egg/onnx_tf/common\n",
            "copying build/lib/onnx_tf/common/attr_translator.py -> build/bdist.linux-x86_64/egg/onnx_tf/common\n",
            "copying build/lib/onnx_tf/common/handler_helper.py -> build/bdist.linux-x86_64/egg/onnx_tf/common\n",
            "copying build/lib/onnx_tf/common/tf_helper.py -> build/bdist.linux-x86_64/egg/onnx_tf/common\n",
            "copying build/lib/onnx_tf/common/data_type.py -> build/bdist.linux-x86_64/egg/onnx_tf/common\n",
            "creating build/bdist.linux-x86_64/egg/onnx_tf/handlers\n",
            "creating build/bdist.linux-x86_64/egg/onnx_tf/handlers/backend\n",
            "copying build/lib/onnx_tf/handlers/backend/sqrt.py -> build/bdist.linux-x86_64/egg/onnx_tf/handlers/backend\n",
            "copying build/lib/onnx_tf/handlers/backend/mean_variance_normalization.py -> build/bdist.linux-x86_64/egg/onnx_tf/handlers/backend\n",
            "copying build/lib/onnx_tf/handlers/backend/softmax.py -> build/bdist.linux-x86_64/egg/onnx_tf/handlers/backend\n",
            "copying build/lib/onnx_tf/handlers/backend/acos.py -> build/bdist.linux-x86_64/egg/onnx_tf/handlers/backend\n",
            "copying build/lib/onnx_tf/handlers/backend/log.py -> build/bdist.linux-x86_64/egg/onnx_tf/handlers/backend\n",
            "copying build/lib/onnx_tf/handlers/backend/loop.py -> build/bdist.linux-x86_64/egg/onnx_tf/handlers/backend\n",
            "copying build/lib/onnx_tf/handlers/backend/identity.py -> build/bdist.linux-x86_64/egg/onnx_tf/handlers/backend\n",
            "copying build/lib/onnx_tf/handlers/backend/sequence_empty.py -> build/bdist.linux-x86_64/egg/onnx_tf/handlers/backend\n",
            "copying build/lib/onnx_tf/handlers/backend/average_pool.py -> build/bdist.linux-x86_64/egg/onnx_tf/handlers/backend\n",
            "copying build/lib/onnx_tf/handlers/backend/det.py -> build/bdist.linux-x86_64/egg/onnx_tf/handlers/backend\n",
            "copying build/lib/onnx_tf/handlers/backend/rnn_mixin.py -> build/bdist.linux-x86_64/egg/onnx_tf/handlers/backend\n",
            "copying build/lib/onnx_tf/handlers/backend/neg.py -> build/bdist.linux-x86_64/egg/onnx_tf/handlers/backend\n",
            "copying build/lib/onnx_tf/handlers/backend/sinh.py -> build/bdist.linux-x86_64/egg/onnx_tf/handlers/backend\n",
            "copying build/lib/onnx_tf/handlers/backend/greater.py -> build/bdist.linux-x86_64/egg/onnx_tf/handlers/backend\n",
            "copying build/lib/onnx_tf/handlers/backend/reduce_sum.py -> build/bdist.linux-x86_64/egg/onnx_tf/handlers/backend\n",
            "copying build/lib/onnx_tf/handlers/backend/top_k.py -> build/bdist.linux-x86_64/egg/onnx_tf/handlers/backend\n",
            "copying build/lib/onnx_tf/handlers/backend/sign.py -> build/bdist.linux-x86_64/egg/onnx_tf/handlers/backend\n",
            "copying build/lib/onnx_tf/handlers/backend/reduce_l1.py -> build/bdist.linux-x86_64/egg/onnx_tf/handlers/backend\n",
            "copying build/lib/onnx_tf/handlers/backend/acosh.py -> build/bdist.linux-x86_64/egg/onnx_tf/handlers/backend\n",
            "copying build/lib/onnx_tf/handlers/backend/gather_and_scatter_mixin.py -> build/bdist.linux-x86_64/egg/onnx_tf/handlers/backend\n",
            "copying build/lib/onnx_tf/handlers/backend/depth_to_space.py -> build/bdist.linux-x86_64/egg/onnx_tf/handlers/backend\n",
            "copying build/lib/onnx_tf/handlers/backend/multinomial.py -> build/bdist.linux-x86_64/egg/onnx_tf/handlers/backend\n",
            "copying build/lib/onnx_tf/handlers/backend/or.py -> build/bdist.linux-x86_64/egg/onnx_tf/handlers/backend\n",
            "copying build/lib/onnx_tf/handlers/backend/sequence_construct.py -> build/bdist.linux-x86_64/egg/onnx_tf/handlers/backend\n",
            "copying build/lib/onnx_tf/handlers/backend/concat.py -> build/bdist.linux-x86_64/egg/onnx_tf/handlers/backend\n",
            "copying build/lib/onnx_tf/handlers/backend/bernoulli.py -> build/bdist.linux-x86_64/egg/onnx_tf/handlers/backend\n",
            "copying build/lib/onnx_tf/handlers/backend/range.py -> build/bdist.linux-x86_64/egg/onnx_tf/handlers/backend\n",
            "copying build/lib/onnx_tf/handlers/backend/onehot.py -> build/bdist.linux-x86_64/egg/onnx_tf/handlers/backend\n",
            "copying build/lib/onnx_tf/handlers/backend/ceil.py -> build/bdist.linux-x86_64/egg/onnx_tf/handlers/backend\n",
            "copying build/lib/onnx_tf/handlers/backend/cumsum.py -> build/bdist.linux-x86_64/egg/onnx_tf/handlers/backend\n",
            "copying build/lib/onnx_tf/handlers/backend/and.py -> build/bdist.linux-x86_64/egg/onnx_tf/handlers/backend\n",
            "copying build/lib/onnx_tf/handlers/backend/is_nan.py -> build/bdist.linux-x86_64/egg/onnx_tf/handlers/backend\n",
            "copying build/lib/onnx_tf/handlers/backend/pad.py -> build/bdist.linux-x86_64/egg/onnx_tf/handlers/backend\n",
            "copying build/lib/onnx_tf/handlers/backend/sequence_insert.py -> build/bdist.linux-x86_64/egg/onnx_tf/handlers/backend\n",
            "copying build/lib/onnx_tf/handlers/backend/hardswish.py -> build/bdist.linux-x86_64/egg/onnx_tf/handlers/backend\n",
            "copying build/lib/onnx_tf/handlers/backend/split_to_sequence.py -> build/bdist.linux-x86_64/egg/onnx_tf/handlers/backend\n",
            "copying build/lib/onnx_tf/handlers/backend/mean.py -> build/bdist.linux-x86_64/egg/onnx_tf/handlers/backend\n",
            "copying build/lib/onnx_tf/handlers/backend/mat_mul_integer.py -> build/bdist.linux-x86_64/egg/onnx_tf/handlers/backend\n",
            "copying build/lib/onnx_tf/handlers/backend/less.py -> build/bdist.linux-x86_64/egg/onnx_tf/handlers/backend\n",
            "copying build/lib/onnx_tf/handlers/backend/eye_like.py -> build/bdist.linux-x86_64/egg/onnx_tf/handlers/backend\n",
            "copying build/lib/onnx_tf/handlers/backend/image_scaler.py -> build/bdist.linux-x86_64/egg/onnx_tf/handlers/backend\n",
            "copying build/lib/onnx_tf/handlers/backend/celu.py -> build/bdist.linux-x86_64/egg/onnx_tf/handlers/backend\n",
            "copying build/lib/onnx_tf/handlers/backend/instance_normalization.py -> build/bdist.linux-x86_64/egg/onnx_tf/handlers/backend\n",
            "copying build/lib/onnx_tf/handlers/backend/sum.py -> build/bdist.linux-x86_64/egg/onnx_tf/handlers/backend\n",
            "copying build/lib/onnx_tf/handlers/backend/roi_align.py -> build/bdist.linux-x86_64/egg/onnx_tf/handlers/backend\n",
            "copying build/lib/onnx_tf/handlers/backend/sigmoid.py -> build/bdist.linux-x86_64/egg/onnx_tf/handlers/backend\n",
            "copying build/lib/onnx_tf/handlers/backend/p_relu.py -> build/bdist.linux-x86_64/egg/onnx_tf/handlers/backend\n",
            "copying build/lib/onnx_tf/handlers/backend/hard_sigmoid.py -> build/bdist.linux-x86_64/egg/onnx_tf/handlers/backend\n",
            "copying build/lib/onnx_tf/handlers/backend/gemm.py -> build/bdist.linux-x86_64/egg/onnx_tf/handlers/backend\n",
            "copying build/lib/onnx_tf/handlers/backend/constant.py -> build/bdist.linux-x86_64/egg/onnx_tf/handlers/backend\n",
            "copying build/lib/onnx_tf/handlers/backend/softsign.py -> build/bdist.linux-x86_64/egg/onnx_tf/handlers/backend\n",
            "copying build/lib/onnx_tf/handlers/backend/optional.py -> build/bdist.linux-x86_64/egg/onnx_tf/handlers/backend\n",
            "copying build/lib/onnx_tf/handlers/backend/split.py -> build/bdist.linux-x86_64/egg/onnx_tf/handlers/backend\n",
            "copying build/lib/onnx_tf/handlers/backend/tan.py -> build/bdist.linux-x86_64/egg/onnx_tf/handlers/backend\n",
            "copying build/lib/onnx_tf/handlers/backend/transpose.py -> build/bdist.linux-x86_64/egg/onnx_tf/handlers/backend\n",
            "copying build/lib/onnx_tf/handlers/backend/exp.py -> build/bdist.linux-x86_64/egg/onnx_tf/handlers/backend\n",
            "copying build/lib/onnx_tf/handlers/backend/max_pool.py -> build/bdist.linux-x86_64/egg/onnx_tf/handlers/backend\n",
            "copying build/lib/onnx_tf/handlers/backend/pool_mixin.py -> build/bdist.linux-x86_64/egg/onnx_tf/handlers/backend\n",
            "copying build/lib/onnx_tf/handlers/backend/constant_fill.py -> build/bdist.linux-x86_64/egg/onnx_tf/handlers/backend\n",
            "copying build/lib/onnx_tf/handlers/backend/conv_mixin.py -> build/bdist.linux-x86_64/egg/onnx_tf/handlers/backend\n",
            "copying build/lib/onnx_tf/handlers/backend/max.py -> build/bdist.linux-x86_64/egg/onnx_tf/handlers/backend\n",
            "copying build/lib/onnx_tf/handlers/backend/scatter.py -> build/bdist.linux-x86_64/egg/onnx_tf/handlers/backend\n",
            "copying build/lib/onnx_tf/handlers/backend/gather_nd.py -> build/bdist.linux-x86_64/egg/onnx_tf/handlers/backend\n",
            "copying build/lib/onnx_tf/handlers/backend/__init__.py -> build/bdist.linux-x86_64/egg/onnx_tf/handlers/backend\n",
            "copying build/lib/onnx_tf/handlers/backend/add.py -> build/bdist.linux-x86_64/egg/onnx_tf/handlers/backend\n",
            "copying build/lib/onnx_tf/handlers/backend/scan_mixin.py -> build/bdist.linux-x86_64/egg/onnx_tf/handlers/backend\n",
            "copying build/lib/onnx_tf/handlers/backend/size.py -> build/bdist.linux-x86_64/egg/onnx_tf/handlers/backend\n",
            "copying build/lib/onnx_tf/handlers/backend/pow.py -> build/bdist.linux-x86_64/egg/onnx_tf/handlers/backend\n",
            "copying build/lib/onnx_tf/handlers/backend/hardmax.py -> build/bdist.linux-x86_64/egg/onnx_tf/handlers/backend\n",
            "copying build/lib/onnx_tf/handlers/backend/optional_get_element.py -> build/bdist.linux-x86_64/egg/onnx_tf/handlers/backend\n",
            "copying build/lib/onnx_tf/handlers/backend/reduce_log_sum.py -> build/bdist.linux-x86_64/egg/onnx_tf/handlers/backend\n",
            "copying build/lib/onnx_tf/handlers/backend/reshape.py -> build/bdist.linux-x86_64/egg/onnx_tf/handlers/backend\n",
            "copying build/lib/onnx_tf/handlers/backend/lstm.py -> build/bdist.linux-x86_64/egg/onnx_tf/handlers/backend\n",
            "copying build/lib/onnx_tf/handlers/backend/unsqueeze.py -> build/bdist.linux-x86_64/egg/onnx_tf/handlers/backend\n",
            "copying build/lib/onnx_tf/handlers/backend/non_zero.py -> build/bdist.linux-x86_64/egg/onnx_tf/handlers/backend\n",
            "copying build/lib/onnx_tf/handlers/backend/constant_of_shape.py -> build/bdist.linux-x86_64/egg/onnx_tf/handlers/backend\n",
            "copying build/lib/onnx_tf/handlers/backend/dilated_pooling.py -> build/bdist.linux-x86_64/egg/onnx_tf/handlers/backend\n",
            "copying build/lib/onnx_tf/handlers/backend/not.py -> build/bdist.linux-x86_64/egg/onnx_tf/handlers/backend\n",
            "copying build/lib/onnx_tf/handlers/backend/sin.py -> build/bdist.linux-x86_64/egg/onnx_tf/handlers/backend\n",
            "copying build/lib/onnx_tf/handlers/backend/dropout.py -> build/bdist.linux-x86_64/egg/onnx_tf/handlers/backend\n",
            "copying build/lib/onnx_tf/handlers/backend/dynamic_quantize_linear.py -> build/bdist.linux-x86_64/egg/onnx_tf/handlers/backend\n",
            "copying build/lib/onnx_tf/handlers/backend/dequantize_linear.py -> build/bdist.linux-x86_64/egg/onnx_tf/handlers/backend\n",
            "copying build/lib/onnx_tf/handlers/backend/math_mixin.py -> build/bdist.linux-x86_64/egg/onnx_tf/handlers/backend\n",
            "copying build/lib/onnx_tf/handlers/backend/reciprocal.py -> build/bdist.linux-x86_64/egg/onnx_tf/handlers/backend\n",
            "copying build/lib/onnx_tf/handlers/backend/upsample.py -> build/bdist.linux-x86_64/egg/onnx_tf/handlers/backend\n",
            "copying build/lib/onnx_tf/handlers/backend/if.py -> build/bdist.linux-x86_64/egg/onnx_tf/handlers/backend\n",
            "copying build/lib/onnx_tf/handlers/backend/lp_normalization.py -> build/bdist.linux-x86_64/egg/onnx_tf/handlers/backend\n",
            "copying build/lib/onnx_tf/handlers/backend/castlike.py -> build/bdist.linux-x86_64/egg/onnx_tf/handlers/backend\n",
            "copying build/lib/onnx_tf/handlers/backend/concat_from_sequence.py -> build/bdist.linux-x86_64/egg/onnx_tf/handlers/backend\n",
            "copying build/lib/onnx_tf/handlers/backend/random_uniform.py -> build/bdist.linux-x86_64/egg/onnx_tf/handlers/backend\n",
            "copying build/lib/onnx_tf/handlers/backend/reverse_sequence.py -> build/bdist.linux-x86_64/egg/onnx_tf/handlers/backend\n",
            "copying build/lib/onnx_tf/handlers/backend/unpool_mixin.py -> build/bdist.linux-x86_64/egg/onnx_tf/handlers/backend\n",
            "copying build/lib/onnx_tf/handlers/backend/div.py -> build/bdist.linux-x86_64/egg/onnx_tf/handlers/backend\n",
            "copying build/lib/onnx_tf/handlers/backend/arg_min.py -> build/bdist.linux-x86_64/egg/onnx_tf/handlers/backend\n",
            "copying build/lib/onnx_tf/handlers/backend/is_inf.py -> build/bdist.linux-x86_64/egg/onnx_tf/handlers/backend\n",
            "copying build/lib/onnx_tf/handlers/backend/mat_mul.py -> build/bdist.linux-x86_64/egg/onnx_tf/handlers/backend\n",
            "copying build/lib/onnx_tf/handlers/backend/floor.py -> build/bdist.linux-x86_64/egg/onnx_tf/handlers/backend\n",
            "copying build/lib/onnx_tf/handlers/backend/less_or_equal.py -> build/bdist.linux-x86_64/egg/onnx_tf/handlers/backend\n",
            "copying build/lib/onnx_tf/handlers/backend/elu.py -> build/bdist.linux-x86_64/egg/onnx_tf/handlers/backend\n",
            "copying build/lib/onnx_tf/handlers/backend/flatten.py -> build/bdist.linux-x86_64/egg/onnx_tf/handlers/backend\n",
            "copying build/lib/onnx_tf/handlers/backend/global_lp_pool.py -> build/bdist.linux-x86_64/egg/onnx_tf/handlers/backend\n",
            "copying build/lib/onnx_tf/handlers/backend/cosh.py -> build/bdist.linux-x86_64/egg/onnx_tf/handlers/backend\n",
            "copying build/lib/onnx_tf/handlers/backend/scatter_nd.py -> build/bdist.linux-x86_64/egg/onnx_tf/handlers/backend\n",
            "copying build/lib/onnx_tf/handlers/backend/global_max_pool.py -> build/bdist.linux-x86_64/egg/onnx_tf/handlers/backend\n",
            "copying build/lib/onnx_tf/handlers/backend/tfidf_vectorizer.py -> build/bdist.linux-x86_64/egg/onnx_tf/handlers/backend\n",
            "copying build/lib/onnx_tf/handlers/backend/space_to_depth.py -> build/bdist.linux-x86_64/egg/onnx_tf/handlers/backend\n",
            "copying build/lib/onnx_tf/handlers/backend/gru.py -> build/bdist.linux-x86_64/egg/onnx_tf/handlers/backend\n",
            "copying build/lib/onnx_tf/handlers/backend/reduce_l2.py -> build/bdist.linux-x86_64/egg/onnx_tf/handlers/backend\n",
            "copying build/lib/onnx_tf/handlers/backend/batch_normalization.py -> build/bdist.linux-x86_64/egg/onnx_tf/handlers/backend\n",
            "copying build/lib/onnx_tf/handlers/backend/conv_transpose.py -> build/bdist.linux-x86_64/egg/onnx_tf/handlers/backend\n",
            "copying build/lib/onnx_tf/handlers/backend/reduce_max.py -> build/bdist.linux-x86_64/egg/onnx_tf/handlers/backend\n",
            "copying build/lib/onnx_tf/handlers/backend/shrink.py -> build/bdist.linux-x86_64/egg/onnx_tf/handlers/backend\n",
            "copying build/lib/onnx_tf/handlers/backend/reduce_sum_square.py -> build/bdist.linux-x86_64/egg/onnx_tf/handlers/backend\n",
            "copying build/lib/onnx_tf/handlers/backend/mul.py -> build/bdist.linux-x86_64/egg/onnx_tf/handlers/backend\n",
            "copying build/lib/onnx_tf/handlers/backend/reduce_min.py -> build/bdist.linux-x86_64/egg/onnx_tf/handlers/backend\n",
            "copying build/lib/onnx_tf/handlers/backend/gather.py -> build/bdist.linux-x86_64/egg/onnx_tf/handlers/backend\n",
            "copying build/lib/onnx_tf/handlers/backend/scan.py -> build/bdist.linux-x86_64/egg/onnx_tf/handlers/backend\n",
            "copying build/lib/onnx_tf/handlers/backend/control_flow_mixin.py -> build/bdist.linux-x86_64/egg/onnx_tf/handlers/backend\n",
            "copying build/lib/onnx_tf/handlers/backend/random_normal.py -> build/bdist.linux-x86_64/egg/onnx_tf/handlers/backend\n",
            "copying build/lib/onnx_tf/handlers/backend/conv_integer.py -> build/bdist.linux-x86_64/egg/onnx_tf/handlers/backend\n",
            "copying build/lib/onnx_tf/handlers/backend/q_linear_mat_mul.py -> build/bdist.linux-x86_64/egg/onnx_tf/handlers/backend\n",
            "copying build/lib/onnx_tf/handlers/backend/reduce_mean.py -> build/bdist.linux-x86_64/egg/onnx_tf/handlers/backend\n",
            "copying build/lib/onnx_tf/handlers/backend/softplus.py -> build/bdist.linux-x86_64/egg/onnx_tf/handlers/backend\n",
            "copying build/lib/onnx_tf/handlers/backend/abs.py -> build/bdist.linux-x86_64/egg/onnx_tf/handlers/backend\n",
            "copying build/lib/onnx_tf/handlers/backend/trilu.py -> build/bdist.linux-x86_64/egg/onnx_tf/handlers/backend\n",
            "copying build/lib/onnx_tf/handlers/backend/max_unpool.py -> build/bdist.linux-x86_64/egg/onnx_tf/handlers/backend\n",
            "copying build/lib/onnx_tf/handlers/backend/random_uniform_like.py -> build/bdist.linux-x86_64/egg/onnx_tf/handlers/backend\n",
            "copying build/lib/onnx_tf/handlers/backend/q_linear_conv.py -> build/bdist.linux-x86_64/egg/onnx_tf/handlers/backend\n",
            "copying build/lib/onnx_tf/handlers/backend/resize.py -> build/bdist.linux-x86_64/egg/onnx_tf/handlers/backend\n",
            "copying build/lib/onnx_tf/handlers/backend/tanh.py -> build/bdist.linux-x86_64/egg/onnx_tf/handlers/backend\n",
            "copying build/lib/onnx_tf/handlers/backend/leaky_relu.py -> build/bdist.linux-x86_64/egg/onnx_tf/handlers/backend\n",
            "copying build/lib/onnx_tf/handlers/backend/rnn.py -> build/bdist.linux-x86_64/egg/onnx_tf/handlers/backend\n",
            "copying build/lib/onnx_tf/handlers/backend/lp_pool.py -> build/bdist.linux-x86_64/egg/onnx_tf/handlers/backend\n",
            "copying build/lib/onnx_tf/handlers/backend/atan.py -> build/bdist.linux-x86_64/egg/onnx_tf/handlers/backend\n",
            "copying build/lib/onnx_tf/handlers/backend/clip.py -> build/bdist.linux-x86_64/egg/onnx_tf/handlers/backend\n",
            "copying build/lib/onnx_tf/handlers/backend/erf.py -> build/bdist.linux-x86_64/egg/onnx_tf/handlers/backend\n",
            "copying build/lib/onnx_tf/handlers/backend/sequence_at.py -> build/bdist.linux-x86_64/egg/onnx_tf/handlers/backend\n",
            "copying build/lib/onnx_tf/handlers/backend/sequence_length.py -> build/bdist.linux-x86_64/egg/onnx_tf/handlers/backend\n",
            "copying build/lib/onnx_tf/handlers/backend/shape.py -> build/bdist.linux-x86_64/egg/onnx_tf/handlers/backend\n",
            "copying build/lib/onnx_tf/handlers/backend/einsum.py -> build/bdist.linux-x86_64/egg/onnx_tf/handlers/backend\n",
            "copying build/lib/onnx_tf/handlers/backend/compress.py -> build/bdist.linux-x86_64/egg/onnx_tf/handlers/backend\n",
            "copying build/lib/onnx_tf/handlers/backend/sub.py -> build/bdist.linux-x86_64/egg/onnx_tf/handlers/backend\n",
            "copying build/lib/onnx_tf/handlers/backend/cos.py -> build/bdist.linux-x86_64/egg/onnx_tf/handlers/backend\n",
            "copying build/lib/onnx_tf/handlers/backend/expand.py -> build/bdist.linux-x86_64/egg/onnx_tf/handlers/backend\n",
            "copying build/lib/onnx_tf/handlers/backend/equal.py -> build/bdist.linux-x86_64/egg/onnx_tf/handlers/backend\n",
            "copying build/lib/onnx_tf/handlers/backend/quantize_linear.py -> build/bdist.linux-x86_64/egg/onnx_tf/handlers/backend\n",
            "copying build/lib/onnx_tf/handlers/backend/pad_mixin.py -> build/bdist.linux-x86_64/egg/onnx_tf/handlers/backend\n",
            "copying build/lib/onnx_tf/handlers/backend/log_softmax.py -> build/bdist.linux-x86_64/egg/onnx_tf/handlers/backend\n",
            "copying build/lib/onnx_tf/handlers/backend/non_max_suppression.py -> build/bdist.linux-x86_64/egg/onnx_tf/handlers/backend\n",
            "copying build/lib/onnx_tf/handlers/backend/squeeze.py -> build/bdist.linux-x86_64/egg/onnx_tf/handlers/backend\n",
            "copying build/lib/onnx_tf/handlers/backend/bitshift.py -> build/bdist.linux-x86_64/egg/onnx_tf/handlers/backend\n",
            "copying build/lib/onnx_tf/handlers/backend/asin.py -> build/bdist.linux-x86_64/egg/onnx_tf/handlers/backend\n",
            "copying build/lib/onnx_tf/handlers/backend/reduce_prod.py -> build/bdist.linux-x86_64/egg/onnx_tf/handlers/backend\n",
            "copying build/lib/onnx_tf/handlers/backend/random_normal_like.py -> build/bdist.linux-x86_64/egg/onnx_tf/handlers/backend\n",
            "copying build/lib/onnx_tf/handlers/backend/lrn.py -> build/bdist.linux-x86_64/egg/onnx_tf/handlers/backend\n",
            "copying build/lib/onnx_tf/handlers/backend/mod.py -> build/bdist.linux-x86_64/egg/onnx_tf/handlers/backend\n",
            "copying build/lib/onnx_tf/handlers/backend/selu.py -> build/bdist.linux-x86_64/egg/onnx_tf/handlers/backend\n",
            "copying build/lib/onnx_tf/handlers/backend/cast.py -> build/bdist.linux-x86_64/egg/onnx_tf/handlers/backend\n",
            "copying build/lib/onnx_tf/handlers/backend/reduce_log_sum_exp.py -> build/bdist.linux-x86_64/egg/onnx_tf/handlers/backend\n",
            "copying build/lib/onnx_tf/handlers/backend/xor.py -> build/bdist.linux-x86_64/egg/onnx_tf/handlers/backend\n",
            "copying build/lib/onnx_tf/handlers/backend/slice.py -> build/bdist.linux-x86_64/egg/onnx_tf/handlers/backend\n",
            "copying build/lib/onnx_tf/handlers/backend/optional_has_element.py -> build/bdist.linux-x86_64/egg/onnx_tf/handlers/backend\n",
            "copying build/lib/onnx_tf/handlers/backend/min.py -> build/bdist.linux-x86_64/egg/onnx_tf/handlers/backend\n",
            "copying build/lib/onnx_tf/handlers/backend/round.py -> build/bdist.linux-x86_64/egg/onnx_tf/handlers/backend\n",
            "copying build/lib/onnx_tf/handlers/backend/asinh.py -> build/bdist.linux-x86_64/egg/onnx_tf/handlers/backend\n",
            "copying build/lib/onnx_tf/handlers/backend/conv.py -> build/bdist.linux-x86_64/egg/onnx_tf/handlers/backend\n",
            "copying build/lib/onnx_tf/handlers/backend/global_average_pool.py -> build/bdist.linux-x86_64/egg/onnx_tf/handlers/backend\n",
            "copying build/lib/onnx_tf/handlers/backend/arg_max.py -> build/bdist.linux-x86_64/egg/onnx_tf/handlers/backend\n",
            "copying build/lib/onnx_tf/handlers/backend/where.py -> build/bdist.linux-x86_64/egg/onnx_tf/handlers/backend\n",
            "copying build/lib/onnx_tf/handlers/backend/broadcast_mixin.py -> build/bdist.linux-x86_64/egg/onnx_tf/handlers/backend\n",
            "copying build/lib/onnx_tf/handlers/backend/greater_or_equal.py -> build/bdist.linux-x86_64/egg/onnx_tf/handlers/backend\n",
            "copying build/lib/onnx_tf/handlers/backend/sequence_erase.py -> build/bdist.linux-x86_64/egg/onnx_tf/handlers/backend\n",
            "copying build/lib/onnx_tf/handlers/backend/gather_elements.py -> build/bdist.linux-x86_64/egg/onnx_tf/handlers/backend\n",
            "copying build/lib/onnx_tf/handlers/backend/relu.py -> build/bdist.linux-x86_64/egg/onnx_tf/handlers/backend\n",
            "copying build/lib/onnx_tf/handlers/backend/scatter_elements.py -> build/bdist.linux-x86_64/egg/onnx_tf/handlers/backend\n",
            "copying build/lib/onnx_tf/handlers/backend/tile.py -> build/bdist.linux-x86_64/egg/onnx_tf/handlers/backend\n",
            "copying build/lib/onnx_tf/handlers/backend/thresholded_relu.py -> build/bdist.linux-x86_64/egg/onnx_tf/handlers/backend\n",
            "copying build/lib/onnx_tf/handlers/backend/atanh.py -> build/bdist.linux-x86_64/egg/onnx_tf/handlers/backend\n",
            "copying build/lib/onnx_tf/handlers/__init__.py -> build/bdist.linux-x86_64/egg/onnx_tf/handlers\n",
            "copying build/lib/onnx_tf/handlers/backend_handler.py -> build/bdist.linux-x86_64/egg/onnx_tf/handlers\n",
            "copying build/lib/onnx_tf/handlers/handler.py -> build/bdist.linux-x86_64/egg/onnx_tf/handlers\n",
            "copying build/lib/onnx_tf/backend.py -> build/bdist.linux-x86_64/egg/onnx_tf\n",
            "copying build/lib/onnx_tf/gen_status.py -> build/bdist.linux-x86_64/egg/onnx_tf\n",
            "copying build/lib/onnx_tf/converter.py -> build/bdist.linux-x86_64/egg/onnx_tf\n",
            "copying build/lib/onnx_tf/gen_doc.py -> build/bdist.linux-x86_64/egg/onnx_tf\n",
            "copying build/lib/onnx_tf/backend_rep.py -> build/bdist.linux-x86_64/egg/onnx_tf\n",
            "creating build/bdist.linux-x86_64/egg/third_party\n",
            "copying build/lib/third_party/__init__.py -> build/bdist.linux-x86_64/egg/third_party\n",
            "copying build/lib/third_party/get_info.py -> build/bdist.linux-x86_64/egg/third_party\n",
            "creating build/bdist.linux-x86_64/egg/test\n",
            "copying build/lib/test/test_modelzoo.py -> build/bdist.linux-x86_64/egg/test\n",
            "creating build/bdist.linux-x86_64/egg/test/backend\n",
            "copying build/lib/test/backend/test_dynamic_shape.py -> build/bdist.linux-x86_64/egg/test/backend\n",
            "copying build/lib/test/backend/__init__.py -> build/bdist.linux-x86_64/egg/test/backend\n",
            "copying build/lib/test/backend/test_model.py -> build/bdist.linux-x86_64/egg/test/backend\n",
            "copying build/lib/test/backend/test_node.py -> build/bdist.linux-x86_64/egg/test/backend\n",
            "copying build/lib/test/backend/test_onnx_backend.py -> build/bdist.linux-x86_64/egg/test/backend\n",
            "copying build/lib/test/__init__.py -> build/bdist.linux-x86_64/egg/test\n",
            "copying build/lib/test/test_cli.py -> build/bdist.linux-x86_64/egg/test\n",
            "byte-compiling build/bdist.linux-x86_64/egg/onnx_tf/pb_wrapper.py to pb_wrapper.cpython-37.pyc\n",
            "byte-compiling build/bdist.linux-x86_64/egg/onnx_tf/cli.py to cli.cpython-37.pyc\n",
            "byte-compiling build/bdist.linux-x86_64/egg/onnx_tf/version.py to version.cpython-37.pyc\n",
            "byte-compiling build/bdist.linux-x86_64/egg/onnx_tf/gen_opset.py to gen_opset.cpython-37.pyc\n",
            "byte-compiling build/bdist.linux-x86_64/egg/onnx_tf/__init__.py to __init__.cpython-37.pyc\n",
            "byte-compiling build/bdist.linux-x86_64/egg/onnx_tf/opset_version.py to opset_version.cpython-37.pyc\n",
            "byte-compiling build/bdist.linux-x86_64/egg/onnx_tf/backend_tf_module.py to backend_tf_module.cpython-37.pyc\n",
            "byte-compiling build/bdist.linux-x86_64/egg/onnx_tf/common/attr_converter.py to attr_converter.cpython-37.pyc\n",
            "byte-compiling build/bdist.linux-x86_64/egg/onnx_tf/common/pooling_helper.py to pooling_helper.cpython-37.pyc\n",
            "byte-compiling build/bdist.linux-x86_64/egg/onnx_tf/common/exception.py to exception.cpython-37.pyc\n",
            "byte-compiling build/bdist.linux-x86_64/egg/onnx_tf/common/__init__.py to __init__.cpython-37.pyc\n",
            "byte-compiling build/bdist.linux-x86_64/egg/onnx_tf/common/legacy.py to legacy.cpython-37.pyc\n",
            "byte-compiling build/bdist.linux-x86_64/egg/onnx_tf/common/attr_translator.py to attr_translator.cpython-37.pyc\n",
            "byte-compiling build/bdist.linux-x86_64/egg/onnx_tf/common/handler_helper.py to handler_helper.cpython-37.pyc\n",
            "byte-compiling build/bdist.linux-x86_64/egg/onnx_tf/common/tf_helper.py to tf_helper.cpython-37.pyc\n",
            "byte-compiling build/bdist.linux-x86_64/egg/onnx_tf/common/data_type.py to data_type.cpython-37.pyc\n",
            "byte-compiling build/bdist.linux-x86_64/egg/onnx_tf/handlers/backend/sqrt.py to sqrt.cpython-37.pyc\n",
            "byte-compiling build/bdist.linux-x86_64/egg/onnx_tf/handlers/backend/mean_variance_normalization.py to mean_variance_normalization.cpython-37.pyc\n",
            "byte-compiling build/bdist.linux-x86_64/egg/onnx_tf/handlers/backend/softmax.py to softmax.cpython-37.pyc\n",
            "byte-compiling build/bdist.linux-x86_64/egg/onnx_tf/handlers/backend/acos.py to acos.cpython-37.pyc\n",
            "byte-compiling build/bdist.linux-x86_64/egg/onnx_tf/handlers/backend/log.py to log.cpython-37.pyc\n",
            "byte-compiling build/bdist.linux-x86_64/egg/onnx_tf/handlers/backend/loop.py to loop.cpython-37.pyc\n",
            "byte-compiling build/bdist.linux-x86_64/egg/onnx_tf/handlers/backend/identity.py to identity.cpython-37.pyc\n",
            "byte-compiling build/bdist.linux-x86_64/egg/onnx_tf/handlers/backend/sequence_empty.py to sequence_empty.cpython-37.pyc\n",
            "byte-compiling build/bdist.linux-x86_64/egg/onnx_tf/handlers/backend/average_pool.py to average_pool.cpython-37.pyc\n",
            "byte-compiling build/bdist.linux-x86_64/egg/onnx_tf/handlers/backend/det.py to det.cpython-37.pyc\n",
            "byte-compiling build/bdist.linux-x86_64/egg/onnx_tf/handlers/backend/rnn_mixin.py to rnn_mixin.cpython-37.pyc\n",
            "byte-compiling build/bdist.linux-x86_64/egg/onnx_tf/handlers/backend/neg.py to neg.cpython-37.pyc\n",
            "byte-compiling build/bdist.linux-x86_64/egg/onnx_tf/handlers/backend/sinh.py to sinh.cpython-37.pyc\n",
            "byte-compiling build/bdist.linux-x86_64/egg/onnx_tf/handlers/backend/greater.py to greater.cpython-37.pyc\n",
            "byte-compiling build/bdist.linux-x86_64/egg/onnx_tf/handlers/backend/reduce_sum.py to reduce_sum.cpython-37.pyc\n",
            "byte-compiling build/bdist.linux-x86_64/egg/onnx_tf/handlers/backend/top_k.py to top_k.cpython-37.pyc\n",
            "byte-compiling build/bdist.linux-x86_64/egg/onnx_tf/handlers/backend/sign.py to sign.cpython-37.pyc\n",
            "byte-compiling build/bdist.linux-x86_64/egg/onnx_tf/handlers/backend/reduce_l1.py to reduce_l1.cpython-37.pyc\n",
            "byte-compiling build/bdist.linux-x86_64/egg/onnx_tf/handlers/backend/acosh.py to acosh.cpython-37.pyc\n",
            "byte-compiling build/bdist.linux-x86_64/egg/onnx_tf/handlers/backend/gather_and_scatter_mixin.py to gather_and_scatter_mixin.cpython-37.pyc\n",
            "byte-compiling build/bdist.linux-x86_64/egg/onnx_tf/handlers/backend/depth_to_space.py to depth_to_space.cpython-37.pyc\n",
            "byte-compiling build/bdist.linux-x86_64/egg/onnx_tf/handlers/backend/multinomial.py to multinomial.cpython-37.pyc\n",
            "byte-compiling build/bdist.linux-x86_64/egg/onnx_tf/handlers/backend/or.py to or.cpython-37.pyc\n",
            "byte-compiling build/bdist.linux-x86_64/egg/onnx_tf/handlers/backend/sequence_construct.py to sequence_construct.cpython-37.pyc\n",
            "byte-compiling build/bdist.linux-x86_64/egg/onnx_tf/handlers/backend/concat.py to concat.cpython-37.pyc\n",
            "byte-compiling build/bdist.linux-x86_64/egg/onnx_tf/handlers/backend/bernoulli.py to bernoulli.cpython-37.pyc\n",
            "byte-compiling build/bdist.linux-x86_64/egg/onnx_tf/handlers/backend/range.py to range.cpython-37.pyc\n",
            "byte-compiling build/bdist.linux-x86_64/egg/onnx_tf/handlers/backend/onehot.py to onehot.cpython-37.pyc\n",
            "byte-compiling build/bdist.linux-x86_64/egg/onnx_tf/handlers/backend/ceil.py to ceil.cpython-37.pyc\n",
            "byte-compiling build/bdist.linux-x86_64/egg/onnx_tf/handlers/backend/cumsum.py to cumsum.cpython-37.pyc\n",
            "byte-compiling build/bdist.linux-x86_64/egg/onnx_tf/handlers/backend/and.py to and.cpython-37.pyc\n",
            "byte-compiling build/bdist.linux-x86_64/egg/onnx_tf/handlers/backend/is_nan.py to is_nan.cpython-37.pyc\n",
            "byte-compiling build/bdist.linux-x86_64/egg/onnx_tf/handlers/backend/pad.py to pad.cpython-37.pyc\n",
            "byte-compiling build/bdist.linux-x86_64/egg/onnx_tf/handlers/backend/sequence_insert.py to sequence_insert.cpython-37.pyc\n",
            "byte-compiling build/bdist.linux-x86_64/egg/onnx_tf/handlers/backend/hardswish.py to hardswish.cpython-37.pyc\n",
            "byte-compiling build/bdist.linux-x86_64/egg/onnx_tf/handlers/backend/split_to_sequence.py to split_to_sequence.cpython-37.pyc\n",
            "byte-compiling build/bdist.linux-x86_64/egg/onnx_tf/handlers/backend/mean.py to mean.cpython-37.pyc\n",
            "byte-compiling build/bdist.linux-x86_64/egg/onnx_tf/handlers/backend/mat_mul_integer.py to mat_mul_integer.cpython-37.pyc\n",
            "byte-compiling build/bdist.linux-x86_64/egg/onnx_tf/handlers/backend/less.py to less.cpython-37.pyc\n",
            "byte-compiling build/bdist.linux-x86_64/egg/onnx_tf/handlers/backend/eye_like.py to eye_like.cpython-37.pyc\n",
            "byte-compiling build/bdist.linux-x86_64/egg/onnx_tf/handlers/backend/image_scaler.py to image_scaler.cpython-37.pyc\n",
            "byte-compiling build/bdist.linux-x86_64/egg/onnx_tf/handlers/backend/celu.py to celu.cpython-37.pyc\n",
            "byte-compiling build/bdist.linux-x86_64/egg/onnx_tf/handlers/backend/instance_normalization.py to instance_normalization.cpython-37.pyc\n",
            "byte-compiling build/bdist.linux-x86_64/egg/onnx_tf/handlers/backend/sum.py to sum.cpython-37.pyc\n",
            "byte-compiling build/bdist.linux-x86_64/egg/onnx_tf/handlers/backend/roi_align.py to roi_align.cpython-37.pyc\n",
            "byte-compiling build/bdist.linux-x86_64/egg/onnx_tf/handlers/backend/sigmoid.py to sigmoid.cpython-37.pyc\n",
            "byte-compiling build/bdist.linux-x86_64/egg/onnx_tf/handlers/backend/p_relu.py to p_relu.cpython-37.pyc\n",
            "byte-compiling build/bdist.linux-x86_64/egg/onnx_tf/handlers/backend/hard_sigmoid.py to hard_sigmoid.cpython-37.pyc\n",
            "byte-compiling build/bdist.linux-x86_64/egg/onnx_tf/handlers/backend/gemm.py to gemm.cpython-37.pyc\n",
            "byte-compiling build/bdist.linux-x86_64/egg/onnx_tf/handlers/backend/constant.py to constant.cpython-37.pyc\n",
            "byte-compiling build/bdist.linux-x86_64/egg/onnx_tf/handlers/backend/softsign.py to softsign.cpython-37.pyc\n",
            "byte-compiling build/bdist.linux-x86_64/egg/onnx_tf/handlers/backend/optional.py to optional.cpython-37.pyc\n",
            "byte-compiling build/bdist.linux-x86_64/egg/onnx_tf/handlers/backend/split.py to split.cpython-37.pyc\n",
            "byte-compiling build/bdist.linux-x86_64/egg/onnx_tf/handlers/backend/tan.py to tan.cpython-37.pyc\n",
            "byte-compiling build/bdist.linux-x86_64/egg/onnx_tf/handlers/backend/transpose.py to transpose.cpython-37.pyc\n",
            "byte-compiling build/bdist.linux-x86_64/egg/onnx_tf/handlers/backend/exp.py to exp.cpython-37.pyc\n",
            "byte-compiling build/bdist.linux-x86_64/egg/onnx_tf/handlers/backend/max_pool.py to max_pool.cpython-37.pyc\n",
            "byte-compiling build/bdist.linux-x86_64/egg/onnx_tf/handlers/backend/pool_mixin.py to pool_mixin.cpython-37.pyc\n",
            "byte-compiling build/bdist.linux-x86_64/egg/onnx_tf/handlers/backend/constant_fill.py to constant_fill.cpython-37.pyc\n",
            "byte-compiling build/bdist.linux-x86_64/egg/onnx_tf/handlers/backend/conv_mixin.py to conv_mixin.cpython-37.pyc\n",
            "byte-compiling build/bdist.linux-x86_64/egg/onnx_tf/handlers/backend/max.py to max.cpython-37.pyc\n",
            "byte-compiling build/bdist.linux-x86_64/egg/onnx_tf/handlers/backend/scatter.py to scatter.cpython-37.pyc\n",
            "byte-compiling build/bdist.linux-x86_64/egg/onnx_tf/handlers/backend/gather_nd.py to gather_nd.cpython-37.pyc\n",
            "byte-compiling build/bdist.linux-x86_64/egg/onnx_tf/handlers/backend/__init__.py to __init__.cpython-37.pyc\n",
            "byte-compiling build/bdist.linux-x86_64/egg/onnx_tf/handlers/backend/add.py to add.cpython-37.pyc\n",
            "byte-compiling build/bdist.linux-x86_64/egg/onnx_tf/handlers/backend/scan_mixin.py to scan_mixin.cpython-37.pyc\n",
            "byte-compiling build/bdist.linux-x86_64/egg/onnx_tf/handlers/backend/size.py to size.cpython-37.pyc\n",
            "byte-compiling build/bdist.linux-x86_64/egg/onnx_tf/handlers/backend/pow.py to pow.cpython-37.pyc\n",
            "byte-compiling build/bdist.linux-x86_64/egg/onnx_tf/handlers/backend/hardmax.py to hardmax.cpython-37.pyc\n",
            "byte-compiling build/bdist.linux-x86_64/egg/onnx_tf/handlers/backend/optional_get_element.py to optional_get_element.cpython-37.pyc\n",
            "byte-compiling build/bdist.linux-x86_64/egg/onnx_tf/handlers/backend/reduce_log_sum.py to reduce_log_sum.cpython-37.pyc\n",
            "byte-compiling build/bdist.linux-x86_64/egg/onnx_tf/handlers/backend/reshape.py to reshape.cpython-37.pyc\n",
            "byte-compiling build/bdist.linux-x86_64/egg/onnx_tf/handlers/backend/lstm.py to lstm.cpython-37.pyc\n",
            "byte-compiling build/bdist.linux-x86_64/egg/onnx_tf/handlers/backend/unsqueeze.py to unsqueeze.cpython-37.pyc\n",
            "byte-compiling build/bdist.linux-x86_64/egg/onnx_tf/handlers/backend/non_zero.py to non_zero.cpython-37.pyc\n",
            "byte-compiling build/bdist.linux-x86_64/egg/onnx_tf/handlers/backend/constant_of_shape.py to constant_of_shape.cpython-37.pyc\n",
            "byte-compiling build/bdist.linux-x86_64/egg/onnx_tf/handlers/backend/dilated_pooling.py to dilated_pooling.cpython-37.pyc\n",
            "byte-compiling build/bdist.linux-x86_64/egg/onnx_tf/handlers/backend/not.py to not.cpython-37.pyc\n",
            "byte-compiling build/bdist.linux-x86_64/egg/onnx_tf/handlers/backend/sin.py to sin.cpython-37.pyc\n",
            "byte-compiling build/bdist.linux-x86_64/egg/onnx_tf/handlers/backend/dropout.py to dropout.cpython-37.pyc\n",
            "byte-compiling build/bdist.linux-x86_64/egg/onnx_tf/handlers/backend/dynamic_quantize_linear.py to dynamic_quantize_linear.cpython-37.pyc\n",
            "byte-compiling build/bdist.linux-x86_64/egg/onnx_tf/handlers/backend/dequantize_linear.py to dequantize_linear.cpython-37.pyc\n",
            "byte-compiling build/bdist.linux-x86_64/egg/onnx_tf/handlers/backend/math_mixin.py to math_mixin.cpython-37.pyc\n",
            "byte-compiling build/bdist.linux-x86_64/egg/onnx_tf/handlers/backend/reciprocal.py to reciprocal.cpython-37.pyc\n",
            "byte-compiling build/bdist.linux-x86_64/egg/onnx_tf/handlers/backend/upsample.py to upsample.cpython-37.pyc\n",
            "byte-compiling build/bdist.linux-x86_64/egg/onnx_tf/handlers/backend/if.py to if.cpython-37.pyc\n",
            "byte-compiling build/bdist.linux-x86_64/egg/onnx_tf/handlers/backend/lp_normalization.py to lp_normalization.cpython-37.pyc\n",
            "byte-compiling build/bdist.linux-x86_64/egg/onnx_tf/handlers/backend/castlike.py to castlike.cpython-37.pyc\n",
            "byte-compiling build/bdist.linux-x86_64/egg/onnx_tf/handlers/backend/concat_from_sequence.py to concat_from_sequence.cpython-37.pyc\n",
            "byte-compiling build/bdist.linux-x86_64/egg/onnx_tf/handlers/backend/random_uniform.py to random_uniform.cpython-37.pyc\n",
            "byte-compiling build/bdist.linux-x86_64/egg/onnx_tf/handlers/backend/reverse_sequence.py to reverse_sequence.cpython-37.pyc\n",
            "byte-compiling build/bdist.linux-x86_64/egg/onnx_tf/handlers/backend/unpool_mixin.py to unpool_mixin.cpython-37.pyc\n",
            "byte-compiling build/bdist.linux-x86_64/egg/onnx_tf/handlers/backend/div.py to div.cpython-37.pyc\n",
            "byte-compiling build/bdist.linux-x86_64/egg/onnx_tf/handlers/backend/arg_min.py to arg_min.cpython-37.pyc\n",
            "byte-compiling build/bdist.linux-x86_64/egg/onnx_tf/handlers/backend/is_inf.py to is_inf.cpython-37.pyc\n",
            "byte-compiling build/bdist.linux-x86_64/egg/onnx_tf/handlers/backend/mat_mul.py to mat_mul.cpython-37.pyc\n",
            "byte-compiling build/bdist.linux-x86_64/egg/onnx_tf/handlers/backend/floor.py to floor.cpython-37.pyc\n",
            "byte-compiling build/bdist.linux-x86_64/egg/onnx_tf/handlers/backend/less_or_equal.py to less_or_equal.cpython-37.pyc\n",
            "byte-compiling build/bdist.linux-x86_64/egg/onnx_tf/handlers/backend/elu.py to elu.cpython-37.pyc\n",
            "byte-compiling build/bdist.linux-x86_64/egg/onnx_tf/handlers/backend/flatten.py to flatten.cpython-37.pyc\n",
            "byte-compiling build/bdist.linux-x86_64/egg/onnx_tf/handlers/backend/global_lp_pool.py to global_lp_pool.cpython-37.pyc\n",
            "byte-compiling build/bdist.linux-x86_64/egg/onnx_tf/handlers/backend/cosh.py to cosh.cpython-37.pyc\n",
            "byte-compiling build/bdist.linux-x86_64/egg/onnx_tf/handlers/backend/scatter_nd.py to scatter_nd.cpython-37.pyc\n",
            "byte-compiling build/bdist.linux-x86_64/egg/onnx_tf/handlers/backend/global_max_pool.py to global_max_pool.cpython-37.pyc\n",
            "byte-compiling build/bdist.linux-x86_64/egg/onnx_tf/handlers/backend/tfidf_vectorizer.py to tfidf_vectorizer.cpython-37.pyc\n",
            "byte-compiling build/bdist.linux-x86_64/egg/onnx_tf/handlers/backend/space_to_depth.py to space_to_depth.cpython-37.pyc\n",
            "byte-compiling build/bdist.linux-x86_64/egg/onnx_tf/handlers/backend/gru.py to gru.cpython-37.pyc\n",
            "byte-compiling build/bdist.linux-x86_64/egg/onnx_tf/handlers/backend/reduce_l2.py to reduce_l2.cpython-37.pyc\n",
            "byte-compiling build/bdist.linux-x86_64/egg/onnx_tf/handlers/backend/batch_normalization.py to batch_normalization.cpython-37.pyc\n",
            "byte-compiling build/bdist.linux-x86_64/egg/onnx_tf/handlers/backend/conv_transpose.py to conv_transpose.cpython-37.pyc\n",
            "byte-compiling build/bdist.linux-x86_64/egg/onnx_tf/handlers/backend/reduce_max.py to reduce_max.cpython-37.pyc\n",
            "byte-compiling build/bdist.linux-x86_64/egg/onnx_tf/handlers/backend/shrink.py to shrink.cpython-37.pyc\n",
            "byte-compiling build/bdist.linux-x86_64/egg/onnx_tf/handlers/backend/reduce_sum_square.py to reduce_sum_square.cpython-37.pyc\n",
            "byte-compiling build/bdist.linux-x86_64/egg/onnx_tf/handlers/backend/mul.py to mul.cpython-37.pyc\n",
            "byte-compiling build/bdist.linux-x86_64/egg/onnx_tf/handlers/backend/reduce_min.py to reduce_min.cpython-37.pyc\n",
            "byte-compiling build/bdist.linux-x86_64/egg/onnx_tf/handlers/backend/gather.py to gather.cpython-37.pyc\n",
            "byte-compiling build/bdist.linux-x86_64/egg/onnx_tf/handlers/backend/scan.py to scan.cpython-37.pyc\n",
            "byte-compiling build/bdist.linux-x86_64/egg/onnx_tf/handlers/backend/control_flow_mixin.py to control_flow_mixin.cpython-37.pyc\n",
            "byte-compiling build/bdist.linux-x86_64/egg/onnx_tf/handlers/backend/random_normal.py to random_normal.cpython-37.pyc\n",
            "byte-compiling build/bdist.linux-x86_64/egg/onnx_tf/handlers/backend/conv_integer.py to conv_integer.cpython-37.pyc\n",
            "byte-compiling build/bdist.linux-x86_64/egg/onnx_tf/handlers/backend/q_linear_mat_mul.py to q_linear_mat_mul.cpython-37.pyc\n",
            "byte-compiling build/bdist.linux-x86_64/egg/onnx_tf/handlers/backend/reduce_mean.py to reduce_mean.cpython-37.pyc\n",
            "byte-compiling build/bdist.linux-x86_64/egg/onnx_tf/handlers/backend/softplus.py to softplus.cpython-37.pyc\n",
            "byte-compiling build/bdist.linux-x86_64/egg/onnx_tf/handlers/backend/abs.py to abs.cpython-37.pyc\n",
            "byte-compiling build/bdist.linux-x86_64/egg/onnx_tf/handlers/backend/trilu.py to trilu.cpython-37.pyc\n",
            "byte-compiling build/bdist.linux-x86_64/egg/onnx_tf/handlers/backend/max_unpool.py to max_unpool.cpython-37.pyc\n",
            "byte-compiling build/bdist.linux-x86_64/egg/onnx_tf/handlers/backend/random_uniform_like.py to random_uniform_like.cpython-37.pyc\n",
            "byte-compiling build/bdist.linux-x86_64/egg/onnx_tf/handlers/backend/q_linear_conv.py to q_linear_conv.cpython-37.pyc\n",
            "byte-compiling build/bdist.linux-x86_64/egg/onnx_tf/handlers/backend/resize.py to resize.cpython-37.pyc\n",
            "byte-compiling build/bdist.linux-x86_64/egg/onnx_tf/handlers/backend/tanh.py to tanh.cpython-37.pyc\n",
            "byte-compiling build/bdist.linux-x86_64/egg/onnx_tf/handlers/backend/leaky_relu.py to leaky_relu.cpython-37.pyc\n",
            "byte-compiling build/bdist.linux-x86_64/egg/onnx_tf/handlers/backend/rnn.py to rnn.cpython-37.pyc\n",
            "byte-compiling build/bdist.linux-x86_64/egg/onnx_tf/handlers/backend/lp_pool.py to lp_pool.cpython-37.pyc\n",
            "byte-compiling build/bdist.linux-x86_64/egg/onnx_tf/handlers/backend/atan.py to atan.cpython-37.pyc\n",
            "byte-compiling build/bdist.linux-x86_64/egg/onnx_tf/handlers/backend/clip.py to clip.cpython-37.pyc\n",
            "byte-compiling build/bdist.linux-x86_64/egg/onnx_tf/handlers/backend/erf.py to erf.cpython-37.pyc\n",
            "byte-compiling build/bdist.linux-x86_64/egg/onnx_tf/handlers/backend/sequence_at.py to sequence_at.cpython-37.pyc\n",
            "byte-compiling build/bdist.linux-x86_64/egg/onnx_tf/handlers/backend/sequence_length.py to sequence_length.cpython-37.pyc\n",
            "byte-compiling build/bdist.linux-x86_64/egg/onnx_tf/handlers/backend/shape.py to shape.cpython-37.pyc\n",
            "byte-compiling build/bdist.linux-x86_64/egg/onnx_tf/handlers/backend/einsum.py to einsum.cpython-37.pyc\n",
            "byte-compiling build/bdist.linux-x86_64/egg/onnx_tf/handlers/backend/compress.py to compress.cpython-37.pyc\n",
            "byte-compiling build/bdist.linux-x86_64/egg/onnx_tf/handlers/backend/sub.py to sub.cpython-37.pyc\n",
            "byte-compiling build/bdist.linux-x86_64/egg/onnx_tf/handlers/backend/cos.py to cos.cpython-37.pyc\n",
            "byte-compiling build/bdist.linux-x86_64/egg/onnx_tf/handlers/backend/expand.py to expand.cpython-37.pyc\n",
            "byte-compiling build/bdist.linux-x86_64/egg/onnx_tf/handlers/backend/equal.py to equal.cpython-37.pyc\n",
            "byte-compiling build/bdist.linux-x86_64/egg/onnx_tf/handlers/backend/quantize_linear.py to quantize_linear.cpython-37.pyc\n",
            "byte-compiling build/bdist.linux-x86_64/egg/onnx_tf/handlers/backend/pad_mixin.py to pad_mixin.cpython-37.pyc\n",
            "byte-compiling build/bdist.linux-x86_64/egg/onnx_tf/handlers/backend/log_softmax.py to log_softmax.cpython-37.pyc\n",
            "byte-compiling build/bdist.linux-x86_64/egg/onnx_tf/handlers/backend/non_max_suppression.py to non_max_suppression.cpython-37.pyc\n",
            "byte-compiling build/bdist.linux-x86_64/egg/onnx_tf/handlers/backend/squeeze.py to squeeze.cpython-37.pyc\n",
            "byte-compiling build/bdist.linux-x86_64/egg/onnx_tf/handlers/backend/bitshift.py to bitshift.cpython-37.pyc\n",
            "byte-compiling build/bdist.linux-x86_64/egg/onnx_tf/handlers/backend/asin.py to asin.cpython-37.pyc\n",
            "byte-compiling build/bdist.linux-x86_64/egg/onnx_tf/handlers/backend/reduce_prod.py to reduce_prod.cpython-37.pyc\n",
            "byte-compiling build/bdist.linux-x86_64/egg/onnx_tf/handlers/backend/random_normal_like.py to random_normal_like.cpython-37.pyc\n",
            "byte-compiling build/bdist.linux-x86_64/egg/onnx_tf/handlers/backend/lrn.py to lrn.cpython-37.pyc\n",
            "byte-compiling build/bdist.linux-x86_64/egg/onnx_tf/handlers/backend/mod.py to mod.cpython-37.pyc\n",
            "byte-compiling build/bdist.linux-x86_64/egg/onnx_tf/handlers/backend/selu.py to selu.cpython-37.pyc\n",
            "byte-compiling build/bdist.linux-x86_64/egg/onnx_tf/handlers/backend/cast.py to cast.cpython-37.pyc\n",
            "byte-compiling build/bdist.linux-x86_64/egg/onnx_tf/handlers/backend/reduce_log_sum_exp.py to reduce_log_sum_exp.cpython-37.pyc\n",
            "byte-compiling build/bdist.linux-x86_64/egg/onnx_tf/handlers/backend/xor.py to xor.cpython-37.pyc\n",
            "byte-compiling build/bdist.linux-x86_64/egg/onnx_tf/handlers/backend/slice.py to slice.cpython-37.pyc\n",
            "byte-compiling build/bdist.linux-x86_64/egg/onnx_tf/handlers/backend/optional_has_element.py to optional_has_element.cpython-37.pyc\n",
            "byte-compiling build/bdist.linux-x86_64/egg/onnx_tf/handlers/backend/min.py to min.cpython-37.pyc\n",
            "byte-compiling build/bdist.linux-x86_64/egg/onnx_tf/handlers/backend/round.py to round.cpython-37.pyc\n",
            "byte-compiling build/bdist.linux-x86_64/egg/onnx_tf/handlers/backend/asinh.py to asinh.cpython-37.pyc\n",
            "byte-compiling build/bdist.linux-x86_64/egg/onnx_tf/handlers/backend/conv.py to conv.cpython-37.pyc\n",
            "byte-compiling build/bdist.linux-x86_64/egg/onnx_tf/handlers/backend/global_average_pool.py to global_average_pool.cpython-37.pyc\n",
            "byte-compiling build/bdist.linux-x86_64/egg/onnx_tf/handlers/backend/arg_max.py to arg_max.cpython-37.pyc\n",
            "byte-compiling build/bdist.linux-x86_64/egg/onnx_tf/handlers/backend/where.py to where.cpython-37.pyc\n",
            "byte-compiling build/bdist.linux-x86_64/egg/onnx_tf/handlers/backend/broadcast_mixin.py to broadcast_mixin.cpython-37.pyc\n",
            "byte-compiling build/bdist.linux-x86_64/egg/onnx_tf/handlers/backend/greater_or_equal.py to greater_or_equal.cpython-37.pyc\n",
            "byte-compiling build/bdist.linux-x86_64/egg/onnx_tf/handlers/backend/sequence_erase.py to sequence_erase.cpython-37.pyc\n",
            "byte-compiling build/bdist.linux-x86_64/egg/onnx_tf/handlers/backend/gather_elements.py to gather_elements.cpython-37.pyc\n",
            "byte-compiling build/bdist.linux-x86_64/egg/onnx_tf/handlers/backend/relu.py to relu.cpython-37.pyc\n",
            "byte-compiling build/bdist.linux-x86_64/egg/onnx_tf/handlers/backend/scatter_elements.py to scatter_elements.cpython-37.pyc\n",
            "byte-compiling build/bdist.linux-x86_64/egg/onnx_tf/handlers/backend/tile.py to tile.cpython-37.pyc\n",
            "byte-compiling build/bdist.linux-x86_64/egg/onnx_tf/handlers/backend/thresholded_relu.py to thresholded_relu.cpython-37.pyc\n",
            "byte-compiling build/bdist.linux-x86_64/egg/onnx_tf/handlers/backend/atanh.py to atanh.cpython-37.pyc\n",
            "byte-compiling build/bdist.linux-x86_64/egg/onnx_tf/handlers/__init__.py to __init__.cpython-37.pyc\n",
            "byte-compiling build/bdist.linux-x86_64/egg/onnx_tf/handlers/backend_handler.py to backend_handler.cpython-37.pyc\n",
            "byte-compiling build/bdist.linux-x86_64/egg/onnx_tf/handlers/handler.py to handler.cpython-37.pyc\n",
            "byte-compiling build/bdist.linux-x86_64/egg/onnx_tf/backend.py to backend.cpython-37.pyc\n",
            "byte-compiling build/bdist.linux-x86_64/egg/onnx_tf/gen_status.py to gen_status.cpython-37.pyc\n",
            "byte-compiling build/bdist.linux-x86_64/egg/onnx_tf/converter.py to converter.cpython-37.pyc\n",
            "byte-compiling build/bdist.linux-x86_64/egg/onnx_tf/gen_doc.py to gen_doc.cpython-37.pyc\n",
            "byte-compiling build/bdist.linux-x86_64/egg/onnx_tf/backend_rep.py to backend_rep.cpython-37.pyc\n",
            "byte-compiling build/bdist.linux-x86_64/egg/third_party/__init__.py to __init__.cpython-37.pyc\n",
            "byte-compiling build/bdist.linux-x86_64/egg/third_party/get_info.py to get_info.cpython-37.pyc\n",
            "byte-compiling build/bdist.linux-x86_64/egg/test/test_modelzoo.py to test_modelzoo.cpython-37.pyc\n",
            "byte-compiling build/bdist.linux-x86_64/egg/test/backend/test_dynamic_shape.py to test_dynamic_shape.cpython-37.pyc\n",
            "byte-compiling build/bdist.linux-x86_64/egg/test/backend/__init__.py to __init__.cpython-37.pyc\n",
            "byte-compiling build/bdist.linux-x86_64/egg/test/backend/test_model.py to test_model.cpython-37.pyc\n",
            "byte-compiling build/bdist.linux-x86_64/egg/test/backend/test_node.py to test_node.cpython-37.pyc\n",
            "byte-compiling build/bdist.linux-x86_64/egg/test/backend/test_onnx_backend.py to test_onnx_backend.cpython-37.pyc\n",
            "byte-compiling build/bdist.linux-x86_64/egg/test/__init__.py to __init__.cpython-37.pyc\n",
            "byte-compiling build/bdist.linux-x86_64/egg/test/test_cli.py to test_cli.cpython-37.pyc\n",
            "creating build/bdist.linux-x86_64/egg/EGG-INFO\n",
            "copying onnx_tf.egg-info/PKG-INFO -> build/bdist.linux-x86_64/egg/EGG-INFO\n",
            "copying onnx_tf.egg-info/SOURCES.txt -> build/bdist.linux-x86_64/egg/EGG-INFO\n",
            "copying onnx_tf.egg-info/dependency_links.txt -> build/bdist.linux-x86_64/egg/EGG-INFO\n",
            "copying onnx_tf.egg-info/entry_points.txt -> build/bdist.linux-x86_64/egg/EGG-INFO\n",
            "copying onnx_tf.egg-info/not-zip-safe -> build/bdist.linux-x86_64/egg/EGG-INFO\n",
            "copying onnx_tf.egg-info/requires.txt -> build/bdist.linux-x86_64/egg/EGG-INFO\n",
            "copying onnx_tf.egg-info/top_level.txt -> build/bdist.linux-x86_64/egg/EGG-INFO\n",
            "creating 'dist/onnx_tf-1.9.0-py3.7.egg' and adding 'build/bdist.linux-x86_64/egg' to it\n",
            "removing 'build/bdist.linux-x86_64/egg' (and everything under it)\n",
            "Processing onnx_tf-1.9.0-py3.7.egg\n",
            "removing '/usr/local/lib/python3.7/dist-packages/onnx_tf-1.9.0-py3.7.egg' (and everything under it)\n",
            "creating /usr/local/lib/python3.7/dist-packages/onnx_tf-1.9.0-py3.7.egg\n",
            "Extracting onnx_tf-1.9.0-py3.7.egg to /usr/local/lib/python3.7/dist-packages\n",
            "onnx-tf 1.9.0 is already the active version in easy-install.pth\n",
            "Installing onnx-tf script to /usr/local/bin\n",
            "\n",
            "Installed /usr/local/lib/python3.7/dist-packages/onnx_tf-1.9.0-py3.7.egg\n",
            "Processing dependencies for onnx-tf==1.9.0\n",
            "Searching for tensorflow-addons==0.15.0\n",
            "Best match: tensorflow-addons 0.15.0\n",
            "Adding tensorflow-addons 0.15.0 to easy-install.pth file\n",
            "\n",
            "Using /usr/local/lib/python3.7/dist-packages\n",
            "Searching for PyYAML==3.13\n",
            "Best match: PyYAML 3.13\n",
            "Adding PyYAML 3.13 to easy-install.pth file\n",
            "\n",
            "Using /usr/local/lib/python3.7/dist-packages\n",
            "Searching for onnx==1.10.2\n",
            "Best match: onnx 1.10.2\n",
            "Adding onnx 1.10.2 to easy-install.pth file\n",
            "Installing backend-test-tools script to /usr/local/bin\n",
            "Installing check-model script to /usr/local/bin\n",
            "Installing check-node script to /usr/local/bin\n",
            "\n",
            "Using /usr/local/lib/python3.7/dist-packages\n",
            "Searching for typeguard==2.7.1\n",
            "Best match: typeguard 2.7.1\n",
            "Adding typeguard 2.7.1 to easy-install.pth file\n",
            "\n",
            "Using /usr/local/lib/python3.7/dist-packages\n",
            "Searching for six==1.15.0\n",
            "Best match: six 1.15.0\n",
            "Adding six 1.15.0 to easy-install.pth file\n",
            "\n",
            "Using /usr/local/lib/python3.7/dist-packages\n",
            "Searching for numpy==1.19.5\n",
            "Best match: numpy 1.19.5\n",
            "Adding numpy 1.19.5 to easy-install.pth file\n",
            "Installing f2py script to /usr/local/bin\n",
            "Installing f2py3 script to /usr/local/bin\n",
            "Installing f2py3.7 script to /usr/local/bin\n",
            "\n",
            "Using /usr/local/lib/python3.7/dist-packages\n",
            "Searching for typing-extensions==3.10.0.2\n",
            "Best match: typing-extensions 3.10.0.2\n",
            "Adding typing-extensions 3.10.0.2 to easy-install.pth file\n",
            "\n",
            "Using /usr/local/lib/python3.7/dist-packages\n",
            "Searching for protobuf==3.17.3\n",
            "Best match: protobuf 3.17.3\n",
            "Adding protobuf 3.17.3 to easy-install.pth file\n",
            "\n",
            "Using /usr/local/lib/python3.7/dist-packages\n",
            "Finished processing dependencies for onnx-tf==1.9.0\n",
            "/content\n"
          ]
        }
      ],
      "source": [
        "!git clone https://github.com/onnx/onnx-tensorflow.git\n",
        "%cd onnx-tensorflow\n",
        "#!pip install -v -e .\n",
        "! python setup.py install\n",
        "%cd .."
      ]
    },
    {
      "cell_type": "code",
      "execution_count": 5,
      "metadata": {
        "id": "cv1uZZ_1V2nc"
      },
      "outputs": [],
      "source": [
        "from onnx_tf.backend import prepare"
      ]
    },
    {
      "cell_type": "code",
      "execution_count": 6,
      "metadata": {
        "colab": {
          "base_uri": "https://localhost:8080/"
        },
        "id": "VydetY1xLbeC",
        "outputId": "a404ef29-5ad6-453f-d203-c58a0fde0f7b"
      },
      "outputs": [
        {
          "output_type": "stream",
          "name": "stdout",
          "text": [
            "Mounted at /content/gdrive\n",
            "-rw------- 1 root root 174383860 Feb  1 08:21 '/content/gdrive/MyDrive/Colab Notebooks/vgg2_r50_pfc.onnx'\n"
          ]
        }
      ],
      "source": [
        "from google.colab import drive\n",
        "drive.mount('/content/gdrive')\n",
        "onnx_file=\"/content/gdrive/MyDrive/Colab Notebooks/vgg2_r50_pfc.onnx\"\n",
        "!ls -l \"/content/gdrive/MyDrive/Colab Notebooks/vgg2_r50_pfc.onnx\""
      ]
    },
    {
      "cell_type": "code",
      "execution_count": 7,
      "metadata": {
        "id": "RdWOiT5VLbgK"
      },
      "outputs": [],
      "source": [
        "onnx_model = onnx.load(onnx_file) \n",
        "tf_rep = prepare(onnx_model)"
      ]
    },
    {
      "cell_type": "code",
      "execution_count": 8,
      "metadata": {
        "colab": {
          "base_uri": "https://localhost:8080/"
        },
        "id": "SLt1xxHkWVDi",
        "outputId": "981fae6b-1a4b-4097-ce36-e7303a9bff8a"
      },
      "outputs": [
        {
          "output_type": "stream",
          "name": "stdout",
          "text": [
            "['input.1'] ['683']\n",
            "{'_graph': None, '_inputs': ['input.1'], '_outputs': ['683'], '_tensor_dict': {}, '_tf_module': <onnx_tf.backend_tf_module.BackendTFModule object at 0x7ff114de9cd0>, 'signatures': {'input.1': TensorSpec(shape=(None, 3, 112, 112), dtype=tf.float32, name='input.1')}, '_onnx_op_list': {'Add': 24, 'BatchNormalization': 26, 'Conv': 53, 'Flatten': 1, 'Gemm': 1, 'PRelu': 25}}\n"
          ]
        }
      ],
      "source": [
        "print(tf_rep.inputs, tf_rep.outputs)\n",
        "print(vars(tf_rep))"
      ]
    },
    {
      "cell_type": "code",
      "execution_count": 9,
      "metadata": {
        "colab": {
          "base_uri": "https://localhost:8080/"
        },
        "id": "PO7IBZyOM5IE",
        "outputId": "a54438aa-04a0-4aaf-f620-4025ae4a7ab2"
      },
      "outputs": [
        {
          "output_type": "stream",
          "name": "stderr",
          "text": [
            "WARNING:absl:Function `__call__` contains input name(s) input.1 with unsupported characters which will be renamed to input_1 in the SavedModel.\n",
            "WARNING:absl:Found untraced functions such as gen_tensor_dict while saving (showing 1 of 1). These functions will not be directly callable after loading.\n"
          ]
        },
        {
          "output_type": "stream",
          "name": "stdout",
          "text": [
            "INFO:tensorflow:Assets written to: tmp/assets\n"
          ]
        },
        {
          "output_type": "stream",
          "name": "stderr",
          "text": [
            "INFO:tensorflow:Assets written to: tmp/assets\n"
          ]
        },
        {
          "output_type": "stream",
          "name": "stdout",
          "text": [
            "assets\tsaved_model.pb\tvariables\n"
          ]
        }
      ],
      "source": [
        "tf_rep.export_graph(\"tmp\") \n",
        "!ls tmp"
      ]
    },
    {
      "cell_type": "code",
      "execution_count": null,
      "metadata": {
        "colab": {
          "base_uri": "https://localhost:8080/"
        },
        "id": "IW-tuZ2VNzZa",
        "outputId": "2a2dca22-c4c6-42ad-d8e6-25ff4ab2efe8"
      },
      "outputs": [
        {
          "name": "stdout",
          "output_type": "stream",
          "text": [
            "WARNING:tensorflow:From /usr/local/lib/python3.7/dist-packages/tensorflow/lite/python/convert_saved_model.py:63: load (from tensorflow.python.saved_model.loader_impl) is deprecated and will be removed in a future version.\n",
            "Instructions for updating:\n",
            "This function will only be available through the v1 compatibility library as tf.compat.v1.saved_model.loader.load or tf.compat.v1.saved_model.load. There will be a new function for importing SavedModels in Tensorflow 2.0.\n"
          ]
        },
        {
          "name": "stderr",
          "output_type": "stream",
          "text": [
            "WARNING:tensorflow:From /usr/local/lib/python3.7/dist-packages/tensorflow/lite/python/convert_saved_model.py:63: load (from tensorflow.python.saved_model.loader_impl) is deprecated and will be removed in a future version.\n",
            "Instructions for updating:\n",
            "This function will only be available through the v1 compatibility library as tf.compat.v1.saved_model.loader.load or tf.compat.v1.saved_model.load. There will be a new function for importing SavedModels in Tensorflow 2.0.\n"
          ]
        },
        {
          "name": "stdout",
          "output_type": "stream",
          "text": [
            "INFO:tensorflow:Restoring parameters from tmp/variables/variables\n"
          ]
        },
        {
          "name": "stderr",
          "output_type": "stream",
          "text": [
            "INFO:tensorflow:Restoring parameters from tmp/variables/variables\n"
          ]
        },
        {
          "name": "stdout",
          "output_type": "stream",
          "text": [
            "INFO:tensorflow:The given SavedModel MetaGraphDef contains SignatureDefs with the following keys: {'serving_default', '__saved_model_init_op'}\n"
          ]
        },
        {
          "name": "stderr",
          "output_type": "stream",
          "text": [
            "INFO:tensorflow:The given SavedModel MetaGraphDef contains SignatureDefs with the following keys: {'serving_default', '__saved_model_init_op'}\n"
          ]
        },
        {
          "name": "stdout",
          "output_type": "stream",
          "text": [
            "INFO:tensorflow:input tensors info: \n"
          ]
        },
        {
          "name": "stderr",
          "output_type": "stream",
          "text": [
            "INFO:tensorflow:input tensors info: \n"
          ]
        },
        {
          "name": "stdout",
          "output_type": "stream",
          "text": [
            "INFO:tensorflow:Tensor's key in saved_model's tensor_map: input.1\n"
          ]
        },
        {
          "name": "stderr",
          "output_type": "stream",
          "text": [
            "INFO:tensorflow:Tensor's key in saved_model's tensor_map: input.1\n"
          ]
        },
        {
          "name": "stdout",
          "output_type": "stream",
          "text": [
            "INFO:tensorflow: tensor name: serving_default_input.1:0, shape: (-1, 3, 112, 112), type: DT_FLOAT\n"
          ]
        },
        {
          "name": "stderr",
          "output_type": "stream",
          "text": [
            "INFO:tensorflow: tensor name: serving_default_input.1:0, shape: (-1, 3, 112, 112), type: DT_FLOAT\n"
          ]
        },
        {
          "name": "stdout",
          "output_type": "stream",
          "text": [
            "INFO:tensorflow:output tensors info: \n"
          ]
        },
        {
          "name": "stderr",
          "output_type": "stream",
          "text": [
            "INFO:tensorflow:output tensors info: \n"
          ]
        },
        {
          "name": "stdout",
          "output_type": "stream",
          "text": [
            "INFO:tensorflow:Tensor's key in saved_model's tensor_map: 683\n"
          ]
        },
        {
          "name": "stderr",
          "output_type": "stream",
          "text": [
            "INFO:tensorflow:Tensor's key in saved_model's tensor_map: 683\n"
          ]
        },
        {
          "name": "stdout",
          "output_type": "stream",
          "text": [
            "INFO:tensorflow: tensor name: PartitionedCall:0, shape: (1, 512), type: DT_FLOAT\n"
          ]
        },
        {
          "name": "stderr",
          "output_type": "stream",
          "text": [
            "INFO:tensorflow: tensor name: PartitionedCall:0, shape: (1, 512), type: DT_FLOAT\n"
          ]
        },
        {
          "name": "stdout",
          "output_type": "stream",
          "text": [
            "INFO:tensorflow:Restoring parameters from tmp/variables/variables\n"
          ]
        },
        {
          "name": "stderr",
          "output_type": "stream",
          "text": [
            "INFO:tensorflow:Restoring parameters from tmp/variables/variables\n"
          ]
        },
        {
          "name": "stdout",
          "output_type": "stream",
          "text": [
            "INFO:tensorflow:Restoring parameters from tmp/variables/variables\n"
          ]
        },
        {
          "name": "stderr",
          "output_type": "stream",
          "text": [
            "INFO:tensorflow:Restoring parameters from tmp/variables/variables\n"
          ]
        },
        {
          "name": "stdout",
          "output_type": "stream",
          "text": [
            "INFO:tensorflow:The given SavedModel MetaGraphDef contains SignatureDefs with the following keys: {'serving_default', '__saved_model_init_op'}\n"
          ]
        },
        {
          "name": "stderr",
          "output_type": "stream",
          "text": [
            "INFO:tensorflow:The given SavedModel MetaGraphDef contains SignatureDefs with the following keys: {'serving_default', '__saved_model_init_op'}\n"
          ]
        },
        {
          "name": "stdout",
          "output_type": "stream",
          "text": [
            "INFO:tensorflow:input tensors info: \n"
          ]
        },
        {
          "name": "stderr",
          "output_type": "stream",
          "text": [
            "INFO:tensorflow:input tensors info: \n"
          ]
        },
        {
          "name": "stdout",
          "output_type": "stream",
          "text": [
            "INFO:tensorflow:Tensor's key in saved_model's tensor_map: input.1\n"
          ]
        },
        {
          "name": "stderr",
          "output_type": "stream",
          "text": [
            "INFO:tensorflow:Tensor's key in saved_model's tensor_map: input.1\n"
          ]
        },
        {
          "name": "stdout",
          "output_type": "stream",
          "text": [
            "INFO:tensorflow: tensor name: serving_default_input.1:0, shape: (-1, 3, 112, 112), type: DT_FLOAT\n"
          ]
        },
        {
          "name": "stderr",
          "output_type": "stream",
          "text": [
            "INFO:tensorflow: tensor name: serving_default_input.1:0, shape: (-1, 3, 112, 112), type: DT_FLOAT\n"
          ]
        },
        {
          "name": "stdout",
          "output_type": "stream",
          "text": [
            "INFO:tensorflow:output tensors info: \n"
          ]
        },
        {
          "name": "stderr",
          "output_type": "stream",
          "text": [
            "INFO:tensorflow:output tensors info: \n"
          ]
        },
        {
          "name": "stdout",
          "output_type": "stream",
          "text": [
            "INFO:tensorflow:Tensor's key in saved_model's tensor_map: 683\n"
          ]
        },
        {
          "name": "stderr",
          "output_type": "stream",
          "text": [
            "INFO:tensorflow:Tensor's key in saved_model's tensor_map: 683\n"
          ]
        },
        {
          "name": "stdout",
          "output_type": "stream",
          "text": [
            "INFO:tensorflow: tensor name: PartitionedCall:0, shape: (1, 512), type: DT_FLOAT\n"
          ]
        },
        {
          "name": "stderr",
          "output_type": "stream",
          "text": [
            "INFO:tensorflow: tensor name: PartitionedCall:0, shape: (1, 512), type: DT_FLOAT\n"
          ]
        },
        {
          "name": "stdout",
          "output_type": "stream",
          "text": [
            "INFO:tensorflow:Restoring parameters from tmp/variables/variables\n"
          ]
        },
        {
          "name": "stderr",
          "output_type": "stream",
          "text": [
            "INFO:tensorflow:Restoring parameters from tmp/variables/variables\n"
          ]
        }
      ],
      "source": [
        "converter = tf.compat.v1.lite.TFLiteConverter.from_saved_model(\"tmp\")"
      ]
    },
    {
      "cell_type": "code",
      "execution_count": 10,
      "metadata": {
        "colab": {
          "base_uri": "https://localhost:8080/"
        },
        "id": "63wyv3CIjeD-",
        "outputId": "55768cc6-b72b-415d-bcf0-31310c95c5a6"
      },
      "outputs": [
        {
          "output_type": "stream",
          "name": "stdout",
          "text": [
            "WARNING:tensorflow:From /usr/local/lib/python3.7/dist-packages/tensorflow/lite/python/convert_saved_model.py:63: load (from tensorflow.python.saved_model.loader_impl) is deprecated and will be removed in a future version.\n",
            "Instructions for updating:\n",
            "This function will only be available through the v1 compatibility library as tf.compat.v1.saved_model.loader.load or tf.compat.v1.saved_model.load. There will be a new function for importing SavedModels in Tensorflow 2.0.\n"
          ]
        },
        {
          "output_type": "stream",
          "name": "stderr",
          "text": [
            "WARNING:tensorflow:From /usr/local/lib/python3.7/dist-packages/tensorflow/lite/python/convert_saved_model.py:63: load (from tensorflow.python.saved_model.loader_impl) is deprecated and will be removed in a future version.\n",
            "Instructions for updating:\n",
            "This function will only be available through the v1 compatibility library as tf.compat.v1.saved_model.loader.load or tf.compat.v1.saved_model.load. There will be a new function for importing SavedModels in Tensorflow 2.0.\n"
          ]
        },
        {
          "output_type": "stream",
          "name": "stdout",
          "text": [
            "INFO:tensorflow:Restoring parameters from tmp/variables/variables\n"
          ]
        },
        {
          "output_type": "stream",
          "name": "stderr",
          "text": [
            "INFO:tensorflow:Restoring parameters from tmp/variables/variables\n"
          ]
        },
        {
          "output_type": "stream",
          "name": "stdout",
          "text": [
            "INFO:tensorflow:The given SavedModel MetaGraphDef contains SignatureDefs with the following keys: {'__saved_model_init_op', 'serving_default'}\n"
          ]
        },
        {
          "output_type": "stream",
          "name": "stderr",
          "text": [
            "INFO:tensorflow:The given SavedModel MetaGraphDef contains SignatureDefs with the following keys: {'__saved_model_init_op', 'serving_default'}\n"
          ]
        },
        {
          "output_type": "stream",
          "name": "stdout",
          "text": [
            "INFO:tensorflow:input tensors info: \n"
          ]
        },
        {
          "output_type": "stream",
          "name": "stderr",
          "text": [
            "INFO:tensorflow:input tensors info: \n"
          ]
        },
        {
          "output_type": "stream",
          "name": "stdout",
          "text": [
            "INFO:tensorflow:Tensor's key in saved_model's tensor_map: input.1\n"
          ]
        },
        {
          "output_type": "stream",
          "name": "stderr",
          "text": [
            "INFO:tensorflow:Tensor's key in saved_model's tensor_map: input.1\n"
          ]
        },
        {
          "output_type": "stream",
          "name": "stdout",
          "text": [
            "INFO:tensorflow: tensor name: serving_default_input.1:0, shape: (-1, 3, 112, 112), type: DT_FLOAT\n"
          ]
        },
        {
          "output_type": "stream",
          "name": "stderr",
          "text": [
            "INFO:tensorflow: tensor name: serving_default_input.1:0, shape: (-1, 3, 112, 112), type: DT_FLOAT\n"
          ]
        },
        {
          "output_type": "stream",
          "name": "stdout",
          "text": [
            "INFO:tensorflow:output tensors info: \n"
          ]
        },
        {
          "output_type": "stream",
          "name": "stderr",
          "text": [
            "INFO:tensorflow:output tensors info: \n"
          ]
        },
        {
          "output_type": "stream",
          "name": "stdout",
          "text": [
            "INFO:tensorflow:Tensor's key in saved_model's tensor_map: 683\n"
          ]
        },
        {
          "output_type": "stream",
          "name": "stderr",
          "text": [
            "INFO:tensorflow:Tensor's key in saved_model's tensor_map: 683\n"
          ]
        },
        {
          "output_type": "stream",
          "name": "stdout",
          "text": [
            "INFO:tensorflow: tensor name: PartitionedCall:0, shape: (1, 512), type: DT_FLOAT\n"
          ]
        },
        {
          "output_type": "stream",
          "name": "stderr",
          "text": [
            "INFO:tensorflow: tensor name: PartitionedCall:0, shape: (1, 512), type: DT_FLOAT\n"
          ]
        },
        {
          "output_type": "stream",
          "name": "stdout",
          "text": [
            "INFO:tensorflow:Restoring parameters from tmp/variables/variables\n"
          ]
        },
        {
          "output_type": "stream",
          "name": "stderr",
          "text": [
            "INFO:tensorflow:Restoring parameters from tmp/variables/variables\n"
          ]
        },
        {
          "output_type": "stream",
          "name": "stdout",
          "text": [
            "INFO:tensorflow:Restoring parameters from tmp/variables/variables\n"
          ]
        },
        {
          "output_type": "stream",
          "name": "stderr",
          "text": [
            "INFO:tensorflow:Restoring parameters from tmp/variables/variables\n"
          ]
        },
        {
          "output_type": "stream",
          "name": "stdout",
          "text": [
            "INFO:tensorflow:The given SavedModel MetaGraphDef contains SignatureDefs with the following keys: {'__saved_model_init_op', 'serving_default'}\n"
          ]
        },
        {
          "output_type": "stream",
          "name": "stderr",
          "text": [
            "INFO:tensorflow:The given SavedModel MetaGraphDef contains SignatureDefs with the following keys: {'__saved_model_init_op', 'serving_default'}\n"
          ]
        },
        {
          "output_type": "stream",
          "name": "stdout",
          "text": [
            "INFO:tensorflow:input tensors info: \n"
          ]
        },
        {
          "output_type": "stream",
          "name": "stderr",
          "text": [
            "INFO:tensorflow:input tensors info: \n"
          ]
        },
        {
          "output_type": "stream",
          "name": "stdout",
          "text": [
            "INFO:tensorflow:Tensor's key in saved_model's tensor_map: input.1\n"
          ]
        },
        {
          "output_type": "stream",
          "name": "stderr",
          "text": [
            "INFO:tensorflow:Tensor's key in saved_model's tensor_map: input.1\n"
          ]
        },
        {
          "output_type": "stream",
          "name": "stdout",
          "text": [
            "INFO:tensorflow: tensor name: serving_default_input.1:0, shape: (-1, 3, 112, 112), type: DT_FLOAT\n"
          ]
        },
        {
          "output_type": "stream",
          "name": "stderr",
          "text": [
            "INFO:tensorflow: tensor name: serving_default_input.1:0, shape: (-1, 3, 112, 112), type: DT_FLOAT\n"
          ]
        },
        {
          "output_type": "stream",
          "name": "stdout",
          "text": [
            "INFO:tensorflow:output tensors info: \n"
          ]
        },
        {
          "output_type": "stream",
          "name": "stderr",
          "text": [
            "INFO:tensorflow:output tensors info: \n"
          ]
        },
        {
          "output_type": "stream",
          "name": "stdout",
          "text": [
            "INFO:tensorflow:Tensor's key in saved_model's tensor_map: 683\n"
          ]
        },
        {
          "output_type": "stream",
          "name": "stderr",
          "text": [
            "INFO:tensorflow:Tensor's key in saved_model's tensor_map: 683\n"
          ]
        },
        {
          "output_type": "stream",
          "name": "stdout",
          "text": [
            "INFO:tensorflow: tensor name: PartitionedCall:0, shape: (1, 512), type: DT_FLOAT\n"
          ]
        },
        {
          "output_type": "stream",
          "name": "stderr",
          "text": [
            "INFO:tensorflow: tensor name: PartitionedCall:0, shape: (1, 512), type: DT_FLOAT\n"
          ]
        },
        {
          "output_type": "stream",
          "name": "stdout",
          "text": [
            "INFO:tensorflow:Restoring parameters from tmp/variables/variables\n"
          ]
        },
        {
          "output_type": "stream",
          "name": "stderr",
          "text": [
            "INFO:tensorflow:Restoring parameters from tmp/variables/variables\n"
          ]
        }
      ],
      "source": [
        "converter1 = tf.compat.v1.lite.TFLiteConverter.from_saved_model(saved_model_dir = 'tmp'\n",
        "    ,input_arrays = ['serving_default_input.1'],\n",
        "    input_shapes={'serving_default_input.1':[1,3,112,112]})\n",
        "    #output_arrays = ['683'] )"
      ]
    },
    {
      "cell_type": "code",
      "execution_count": 11,
      "metadata": {
        "colab": {
          "base_uri": "https://localhost:8080/"
        },
        "id": "s4Bj_4k8NzcY",
        "outputId": "3929e539-7b2f-4cdf-a975-8d6ccbdda8d8"
      },
      "outputs": [
        {
          "output_type": "stream",
          "name": "stderr",
          "text": [
            "WARNING:absl:Buffer deduplication procedure will be skipped when flatbuffer library is not properly loaded\n"
          ]
        }
      ],
      "source": [
        "converter1.target_spec.supported_types = [tf.float16]\n",
        "tflite_model = converter1.convert()"
      ]
    },
    {
      "cell_type": "code",
      "execution_count": 12,
      "metadata": {
        "id": "G0WsM-BUfmru"
      },
      "outputs": [],
      "source": [
        "with tf.io.gfile.GFile(\"/content/gdrive/MyDrive/Colab Notebooks/vgg2_r50_pfc.tflite\", 'wb') as f:\n",
        "    f.write(tflite_model)"
      ]
    }
  ],
  "metadata": {
    "accelerator": "GPU",
    "colab": {
      "collapsed_sections": [],
      "name": "onnx_to_tflite.ipynb",
      "provenance": []
    },
    "kernelspec": {
      "display_name": "Python 3",
      "name": "python3"
    }
  },
  "nbformat": 4,
  "nbformat_minor": 0
}